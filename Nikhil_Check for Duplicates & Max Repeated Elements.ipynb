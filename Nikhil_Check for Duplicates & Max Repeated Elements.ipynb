{
 "cells": [
  {
   "cell_type": "markdown",
   "metadata": {},
   "source": [
    "# Program to Check for Duplicates"
   ]
  },
  {
   "cell_type": "code",
   "execution_count": 34,
   "metadata": {},
   "outputs": [
    {
     "name": "stdout",
     "output_type": "stream",
     "text": [
      "True\n"
     ]
    }
   ],
   "source": [
    "#Method1: Brute Force - T -> O(n^2), S -> O(1)\n",
    "def checkDuplicatesBF(A):\n",
    "    for i in range(len(A)):\n",
    "        for j in range(i + 1, len(A)):\n",
    "            if A[i] == A[j]:\n",
    "                return True\n",
    "    return False\n",
    "\n",
    "A = [3, 2, 1, 2, 2, 3]\n",
    "print(checkDuplicatesBF(A))"
   ]
  },
  {
   "cell_type": "code",
   "execution_count": 35,
   "metadata": {},
   "outputs": [
    {
     "name": "stdout",
     "output_type": "stream",
     "text": [
      "True\n"
     ]
    }
   ],
   "source": [
    "#Method2: Sorting - T -> O(nlogn + n), S -> O(1)\n",
    "def checkDuplicatesSorting(A):\n",
    "    A.sort()\n",
    "    for i in range(len(A) - 1):\n",
    "        if A[i] == A[i + 1]:\n",
    "            return True\n",
    "    return False\n",
    "\n",
    "A = [3, 2, 1, 2, 2, 3]\n",
    "print(checkDuplicatesSorting(A))"
   ]
  },
  {
   "cell_type": "code",
   "execution_count": 36,
   "metadata": {},
   "outputs": [
    {
     "name": "stdout",
     "output_type": "stream",
     "text": [
      "True\n"
     ]
    }
   ],
   "source": [
    "#Method3: Hashing - T -> O(n), S -> O(n)\n",
    "def checkDuplicatesHashing(A): \n",
    "    dict1 = {}\n",
    "    for i in A:\n",
    "        if i not in dict1:\n",
    "            dict1[i] = 1\n",
    "        else:\n",
    "            return True\n",
    "    return False\n",
    "\n",
    "A = [3, 2, 1, 2, 2, 3]\n",
    "print(checkDuplicatesHashing(A))"
   ]
  },
  {
   "cell_type": "code",
   "execution_count": 43,
   "metadata": {},
   "outputs": [
    {
     "name": "stdout",
     "output_type": "stream",
     "text": [
      "True\n"
     ]
    }
   ],
   "source": [
    "#Method4: Negation\n",
    "def checkDuplicatesNeg(A):\n",
    "    for i in range(len(A)):\n",
    "        if A[abs(A[i])] <= 0 :\n",
    "            return True\n",
    "        else:\n",
    "            A[abs(A[i])] *= -1\n",
    "    return False\n",
    "\n",
    "A = [3, 2, 1, 2, 2, 3]\n",
    "print(checkDuplicatesNeg(A))"
   ]
  },
  {
   "cell_type": "markdown",
   "metadata": {},
   "source": [
    "# Program to Find Max Repeated Elements"
   ]
  },
  {
   "cell_type": "code",
   "execution_count": 38,
   "metadata": {},
   "outputs": [
    {
     "name": "stdout",
     "output_type": "stream",
     "text": [
      "3\n"
     ]
    }
   ],
   "source": [
    "#Method1: Brute Force - T -> O(n^2), S -> O(1)\n",
    "def maxRepeatedBF(arr):\n",
    "    max_freq = 0\n",
    "    for i in range(len(arr)):\n",
    "        count = 1\n",
    "        for j in range(i + 1, len(arr)):\n",
    "            if arr[i] == arr[j]:\n",
    "                count += 1\n",
    "        if count > max_freq:\n",
    "            max_count = count\n",
    "            val = arr[i]\n",
    "    return val\n",
    "\n",
    "arr = [1, 3, 3, 4, 5, 2, 1, 2, 3]\n",
    "print(maxRepeatedBF(arr))"
   ]
  },
  {
   "cell_type": "code",
   "execution_count": 39,
   "metadata": {},
   "outputs": [
    {
     "name": "stdout",
     "output_type": "stream",
     "text": [
      "3\n"
     ]
    }
   ],
   "source": [
    "#Method2: Sorting - T -> O(nlogn), S -> O(1)\n",
    "def maxRepeatedSorting(arr):\n",
    "    #Sort the array\n",
    "    arr.sort()\n",
    "    max_count = 1\n",
    "    curr_count = 1\n",
    "    result = arr[0]\n",
    "    \n",
    "    #Linear traversal over array\n",
    "    for i in range(1, len(arr)):\n",
    "        if arr[i] == arr[i - 1]:\n",
    "            curr_count += 1\n",
    "        else:\n",
    "            if curr_count > max_count:\n",
    "                max_count = curr_count\n",
    "                result = arr[i - 1]\n",
    "            \n",
    "            curr_count = 1\n",
    "            \n",
    "    #Check whether last val is most frequent        \n",
    "    if curr_count > max_count:\n",
    "        max_count = curr_count\n",
    "        result = arr[len(arr) - 1]\n",
    "        \n",
    "    return result\n",
    "\n",
    "arr = [1, 3, 3, 4, 5, 2, 1, 2, 3]\n",
    "print(maxRepeatedSorting(arr))"
   ]
  },
  {
   "cell_type": "code",
   "execution_count": 40,
   "metadata": {},
   "outputs": [
    {
     "name": "stdout",
     "output_type": "stream",
     "text": [
      "3\n"
     ]
    }
   ],
   "source": [
    "#Method3: Hashing - T -> O(n), S -> O(n)\n",
    "def maxRepeatedHashing(arr):\n",
    "    dic = dict()\n",
    "    for i in range(len(arr)):\n",
    "        if arr[i] in dic.keys():\n",
    "            dic[arr[i]] += 1\n",
    "        else:\n",
    "            dic[arr[i]] = 1\n",
    "            \n",
    "    max_count = 0\n",
    "    result = -1\n",
    "    for i in dic:\n",
    "        if max_count < dic[i]:\n",
    "            result = i\n",
    "            max_count = dic[i]\n",
    "            \n",
    "    return result\n",
    "\n",
    "arr = [1, 3, 3, 4, 5, 2, 1, 2, 3]\n",
    "print(maxRepeatedHashing(arr))"
   ]
  },
  {
   "cell_type": "code",
   "execution_count": 47,
   "metadata": {},
   "outputs": [
    {
     "name": "stdout",
     "output_type": "stream",
     "text": [
      "3\n"
     ]
    }
   ],
   "source": [
    "#Method4:\n",
    "def maxRepeatedNeg(arr, l):\n",
    "    for i in range(len(arr)):\n",
    "        arr[arr[i] % l] += l\n",
    "    \n",
    "    max_value = arr[0]\n",
    "    val = 0\n",
    "    for i in range(1,len(arr)):\n",
    "        if arr[i] > max_value:\n",
    "            max_value = arr[i]\n",
    "            val = i\n",
    "    return val\n",
    "\n",
    "arr = [1, 3, 3, 4, 5, 2, 1, 2, 3]\n",
    "l = len(arr) - 1\n",
    "print(maxRepeatedNeg(arr, l))"
   ]
  }
 ],
 "metadata": {
  "kernelspec": {
   "display_name": "Python 3",
   "language": "python",
   "name": "python3"
  },
  "language_info": {
   "codemirror_mode": {
    "name": "ipython",
    "version": 3
   },
   "file_extension": ".py",
   "mimetype": "text/x-python",
   "name": "python",
   "nbconvert_exporter": "python",
   "pygments_lexer": "ipython3",
   "version": "3.7.4"
  }
 },
 "nbformat": 4,
 "nbformat_minor": 2
}
